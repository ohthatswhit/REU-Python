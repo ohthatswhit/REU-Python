{
 "metadata": {
  "language_info": {
   "codemirror_mode": {
    "name": "ipython",
    "version": 3
   },
   "file_extension": ".py",
   "mimetype": "text/x-python",
   "name": "python",
   "nbconvert_exporter": "python",
   "pygments_lexer": "ipython3",
   "version": "3.9.5"
  },
  "orig_nbformat": 2,
  "kernelspec": {
   "name": "python395jvsc74a57bd07812ea015bdcee6f23a998adcdd2ef97c151c0c241b7b7070987d9313e41299d",
   "display_name": "Python 3.9.5 64-bit ('3.9')"
  },
  "metadata": {
   "interpreter": {
    "hash": "7812ea015bdcee6f23a998adcdd2ef97c151c0c241b7b7070987d9313e41299d"
   }
  }
 },
 "nbformat": 4,
 "nbformat_minor": 2,
 "cells": [
  {
   "cell_type": "code",
   "execution_count": 5,
   "metadata": {},
   "outputs": [
    {
     "output_type": "stream",
     "name": "stdout",
     "text": [
      "<class 'numpy.ndarray'>\n(3,)\n[1 2 3]\n1 2 3\n"
     ]
    }
   ],
   "source": [
    "import numpy as np\n",
    "\n",
    "a = np.array([1,2,3])\n",
    "print(type(a))\n",
    "print(a.shape)\n",
    "print(a)\n",
    "print(a[0], a[1], a[2])"
   ]
  },
  {
   "cell_type": "code",
   "execution_count": 14,
   "metadata": {},
   "outputs": [
    {
     "output_type": "stream",
     "name": "stdout",
     "text": [
      "(2, 3)\n(3, 4)\n"
     ]
    }
   ],
   "source": [
    "b = np.array([[1,2,3],[4,5,6]])\n",
    "print(b.shape)\n",
    "c = np.array([[1,2,3,4], [5,6,10,12], [6,8,9,1]])\n",
    "print(c.shape)"
   ]
  },
  {
   "cell_type": "code",
   "execution_count": 12,
   "metadata": {},
   "outputs": [
    {
     "output_type": "execute_result",
     "data": {
      "text/plain": [
       "array([[0.3208767 , 0.48466035, 0.00942408, 0.03190139],\n",
       "       [0.80902721, 0.98204255, 0.84845502, 0.6069487 ],\n",
       "       [0.87456389, 0.65515393, 0.58839244, 0.4487474 ],\n",
       "       [0.34051655, 0.08616559, 0.66758019, 0.5348802 ]])"
      ]
     },
     "metadata": {},
     "execution_count": 12
    }
   ],
   "source": [
    "# Numpy also provides many functions to create arrays:\n",
    "z = np.zeros((4,6))\n",
    "o = np.ones((2,5))\n",
    "f = np.full((3,3),5)\n",
    "e = np.eye(3)\n",
    "r = np.random.random((4,4))\n",
    "r"
   ]
  },
  {
   "cell_type": "code",
   "execution_count": 16,
   "metadata": {},
   "outputs": [
    {
     "output_type": "stream",
     "name": "stdout",
     "text": [
      "[[ 1  2  3  4]\n [ 5  8  9  7]\n [ 6 10 12 17]]\n[[2 3]\n [8 9]]\n[[77  3]\n [ 8  9]]\n"
     ]
    }
   ],
   "source": [
    "# Array indexing\n",
    "a = np.array([[1,2,3,4], [5,8,9,7],[6,10,12,17]])\n",
    "print(a)\n",
    "b = a[:2,1:3]\n",
    "print(b)\n",
    "b[0,0] = 77\n",
    "print(b)"
   ]
  },
  {
   "cell_type": "code",
   "execution_count": 18,
   "metadata": {},
   "outputs": [
    {
     "output_type": "stream",
     "name": "stdout",
     "text": [
      "[[False False]\n [ True  True]\n [ True  True]]\nint64\n"
     ]
    }
   ],
   "source": [
    "# Boolean array indexing\n",
    "a = np.array([[1,2],[3,4],[5,6]])\n",
    "bool_ind = (a>2)\n",
    "print(bool_ind)\n",
    "print(a.dtype)"
   ]
  },
  {
   "cell_type": "code",
   "execution_count": null,
   "metadata": {},
   "outputs": [],
   "source": []
  }
 ]
}