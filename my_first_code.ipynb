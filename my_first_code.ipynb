{
 "metadata": {
  "language_info": {
   "codemirror_mode": {
    "name": "ipython",
    "version": 3
   },
   "file_extension": ".py",
   "mimetype": "text/x-python",
   "name": "python",
   "nbconvert_exporter": "python",
   "pygments_lexer": "ipython3",
   "version": "3.9.5"
  },
  "orig_nbformat": 2,
  "kernelspec": {
   "name": "python395jvsc74a57bd07812ea015bdcee6f23a998adcdd2ef97c151c0c241b7b7070987d9313e41299d",
   "display_name": "Python 3.9.5 64-bit ('3.9')"
  },
  "metadata": {
   "interpreter": {
    "hash": "7812ea015bdcee6f23a998adcdd2ef97c151c0c241b7b7070987d9313e41299d"
   }
  }
 },
 "nbformat": 4,
 "nbformat_minor": 2,
 "cells": [
  {
   "cell_type": "code",
   "execution_count": 16,
   "metadata": {},
   "outputs": [
    {
     "output_type": "stream",
     "name": "stdout",
     "text": [
      "1\n<class 'int'>\n1000000000\n<class 'int'>\n"
     ]
    }
   ],
   "source": [
    "# Integers\n",
    "x = 1\n",
    "print(x)\n",
    "print(type(x))\n",
    "x = 1000000000\n",
    "print(x)\n",
    "print(type(x))"
   ]
  },
  {
   "cell_type": "code",
   "execution_count": 17,
   "metadata": {},
   "outputs": [
    {
     "output_type": "stream",
     "name": "stdout",
     "text": [
      "20\n<class 'int'>\n"
     ]
    }
   ],
   "source": [
    "age = int(input('Please enter your age'))\n",
    "print(age)\n",
    "print(type(age))"
   ]
  },
  {
   "cell_type": "code",
   "execution_count": 18,
   "metadata": {},
   "outputs": [
    {
     "output_type": "stream",
     "name": "stdout",
     "text": [
      "1.83\n<class 'float'>\n"
     ]
    }
   ],
   "source": [
    "# Floating Points\n",
    "exchange_rate = 1.83\n",
    "print(exchange_rate)\n",
    "print(type(exchange_rate))"
   ]
  },
  {
   "cell_type": "code",
   "execution_count": 19,
   "metadata": {},
   "outputs": [
    {
     "output_type": "stream",
     "name": "stdout",
     "text": [
      "int value as a float 1.0\n<class 'float'>\nstring value as a float 1.5\n<class 'float'>\n"
     ]
    }
   ],
   "source": [
    "# Converting to Floats\n",
    "int_value = 1\n",
    "string_value = '1.5'\n",
    "float_value = float(int_value)\n",
    "print('int value as a float', float_value)\n",
    "print(type(float_value))\n",
    "float_value = float(string_value)\n",
    "print('string value as a float', float_value)\n",
    "print(type(float_value))"
   ]
  },
  {
   "cell_type": "code",
   "execution_count": 20,
   "metadata": {},
   "outputs": [
    {
     "output_type": "stream",
     "name": "stdout",
     "text": [
      "True\nFalse\n<class 'bool'>\n"
     ]
    }
   ],
   "source": [
    "# Boolean value\n",
    "all_ok = True\n",
    "print(all_ok)\n",
    "all_ok = False\n",
    "print(all_ok)\n",
    "print(type(all_ok))"
   ]
  },
  {
   "cell_type": "code",
   "execution_count": 24,
   "metadata": {},
   "outputs": [
    {
     "output_type": "stream",
     "name": "stdout",
     "text": [
      "True\n<class 'bool'>\n"
     ]
    }
   ],
   "source": [
    "# Convert string into Boolean\n",
    "status = bool(input('Ok to proceed:'))\n",
    "print(status)\n",
    "print(type(status))"
   ]
  },
  {
   "cell_type": "code",
   "execution_count": 25,
   "metadata": {},
   "outputs": [
    {
     "output_type": "stream",
     "name": "stdout",
     "text": [
      "1\n0\nTrue\nFalse\n"
     ]
    }
   ],
   "source": [
    "# the Boolean type is actually a subtype of integer\n",
    "print(int(True))\n",
    "print(int(False))\n",
    "print(bool(1))\n",
    "print(bool(0))"
   ]
  },
  {
   "cell_type": "code",
   "execution_count": 28,
   "metadata": {},
   "outputs": [
    {
     "output_type": "stream",
     "name": "stdout",
     "text": [
      "25\n<class 'int'>\n40\n<class 'int'>\n7\n3\n<class 'int'>\n"
     ]
    }
   ],
   "source": [
    "home = 10\n",
    "away = 15\n",
    "print(home + away)\n",
    "print(type(home + away))\n",
    "print(10*4)\n",
    "goals_for = 10\n",
    "print(type(10*4))\n",
    "goals_agains = 7\n",
    "print(goals_agains)\n",
    "print(goals_for-goals_agains)\n",
    "print(type(goals_for-goals_agains))"
   ]
  },
  {
   "cell_type": "code",
   "execution_count": 29,
   "metadata": {},
   "outputs": [
    {
     "output_type": "stream",
     "name": "stdout",
     "text": [
      "5.0\n<class 'float'>\n"
     ]
    }
   ],
   "source": [
    "print(100/20)\n",
    "print(type(100/20))"
   ]
  },
  {
   "cell_type": "code",
   "execution_count": 30,
   "metadata": {},
   "outputs": [
    {
     "output_type": "stream",
     "name": "stdout",
     "text": [
      "25\n"
     ]
    }
   ],
   "source": [
    "print(5**2)"
   ]
  },
  {
   "cell_type": "code",
   "execution_count": 33,
   "metadata": {},
   "outputs": [
    {
     "output_type": "stream",
     "name": "stdout",
     "text": [
      "-15 is negative\n"
     ]
    }
   ],
   "source": [
    "# Working with an If Statement\n",
    "num = int(input('Enter a number:'))\n",
    "if num < 0:\n",
    "   print(num, 'is negative')"
   ]
  },
  {
   "cell_type": "code",
   "execution_count": 35,
   "metadata": {},
   "outputs": [
    {
     "output_type": "stream",
     "name": "stdout",
     "text": [
      "3 is positive\n3 square is 9\nBye\n"
     ]
    }
   ],
   "source": [
    "num = int(input('Enter another number'))\n",
    "if num > 0:\n",
    "   print(num, 'is positive')\n",
    "   print(num, 'square is', num*num)\n",
    "print('Bye')"
   ]
  },
  {
   "cell_type": "code",
   "execution_count": 36,
   "metadata": {},
   "outputs": [
    {
     "output_type": "stream",
     "name": "stdout",
     "text": [
      "3 is positive\n3 square is 9\nBye\n"
     ]
    }
   ],
   "source": [
    "num = int(input('Enter another number'))\n",
    "if num > 0:\n",
    "   print(num, 'is positive')\n",
    "   print(num, 'square is', num*num)\n",
    "else:\n",
    "    print(num,'is negative')\n",
    "print('Bye')"
   ]
  },
  {
   "cell_type": "code",
   "execution_count": 38,
   "metadata": {},
   "outputs": [
    {
     "output_type": "stream",
     "name": "stdout",
     "text": [
      "Well done\n"
     ]
    }
   ],
   "source": [
    "saving = float(input('Enter how much you have in saving'))\n",
    "if saving == 0:\n",
    "    print(\"sorry no saving\")\n",
    "elif saving < 500 and saving > 0:\n",
    "    print('Well done')\n",
    "elif saving < 1000 and saving > 0:\n",
    "    print('Thats a tindy sum')\n",
    "elif saving <10000 and saving > 0:\n",
    "    print('Welcome Sir')\n",
    "else:\n",
    "    print('Thank you')\n"
   ]
  },
  {
   "cell_type": "code",
   "execution_count": null,
   "metadata": {},
   "outputs": [],
   "source": []
  }
 ]
}